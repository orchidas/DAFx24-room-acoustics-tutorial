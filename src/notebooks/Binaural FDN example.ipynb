{
 "cells": [
  {
   "cell_type": "code",
   "execution_count": null,
   "id": "0",
   "metadata": {},
   "outputs": [],
   "source": [
    "import numpy as np\n",
    "import sympy as sp\n",
    "import matplotlib.pyplot as plt\n",
    "\n",
    "from typing import Union, List, Tuple\n",
    "from numpy.typing import ArrayLike, NDArray\n",
    "from loguru import logger\n",
    "from scipy.linalg import qr\n",
    "from pyFDN.fdn import FDN\n",
    "from pyFDN.feedback_matrix import FeedbackMatrixType\n",
    "from pyFDN.utils import ms_to_samps, estimate_echo_density\n",
    "from IPython.display import Image"
   ]
  },
  {
   "attachments": {},
   "cell_type": "markdown",
   "id": "1",
   "metadata": {},
   "source": [
    "#### The structure of the generalised Feedback Delay Network is shown below. In this notebook, we will play with the parameters of the FDN, and listen to its output."
   ]
  },
  {
   "cell_type": "code",
   "execution_count": null,
   "id": "2",
   "metadata": {},
   "outputs": [],
   "source": [
    "Image(\"../../resources/images/FDN_architecture.png\")"
   ]
  },
  {
   "cell_type": "markdown",
   "id": "3",
   "metadata": {},
   "source": [
    "\\begin{aligned}\n",
    "\\boldsymbol{s}(n) & =\\boldsymbol{A} \\boldsymbol{s}(n-m)+\\boldsymbol{b} x(n) \\\\\n",
    "y(n) & =\\boldsymbol{c}^T \\boldsymbol{s}(n)+d x(n), \\\\\n",
    "\\boldsymbol{s}(n) & =\\left[s_1(n), s_2(n), \\ldots, s_N(n)\\right]^T \\\\\n",
    "\\boldsymbol{s}(n-m) & =\\left[s_1\\left(n-m_1\\right), s_2\\left(n-m_2\\right), \\ldots, s_N\\left(n-m_N\\right)\\right]^T\n",
    "\\end{aligned}"
   ]
  },
  {
   "cell_type": "markdown",
   "id": "4",
   "metadata": {},
   "source": [
    "### Helper functions"
   ]
  },
  {
   "cell_type": "code",
   "execution_count": null,
   "id": "5",
   "metadata": {},
   "outputs": [],
   "source": [
    "def generate_coprime_delay_line_lengths(delay_range_ms: ArrayLike, num_delay_lines: int,  fs: float) -> ArrayLike:\n",
    "    delay_range_samps = ms_to_samps(delay_range_ms, fs)\n",
    "    # generate prime numbers in specified range\n",
    "    prime_nums = np.array(list(sp.primerange(delay_range_samps[0], delay_range_samps[1])), dtype=np.int32)\n",
    "    rand_primes = prime_nums[np.random.permutation(len(prime_nums))]\n",
    "    # delay line lengths\n",
    "    delay_lengths = np.array(np.r_[rand_primes[:num_delay_lines - 1], sp.nextprime(delay_range_samps[1])], dtype=np.int32)\n",
    "    return delay_lengths\n"
   ]
  },
  {
   "cell_type": "markdown",
   "id": "6",
   "metadata": {},
   "source": [
    "#### Define FDN parameters"
   ]
  },
  {
   "cell_type": "code",
   "execution_count": null,
   "id": "7",
   "metadata": {},
   "outputs": [],
   "source": [
    "# sampling rate\n",
    "fs = 48000\n",
    "# number of delay lines\n",
    "N = 8\n",
    "frame_size = 2**8\n",
    "\n",
    "# we want a binaural output\n",
    "num_input = 1\n",
    "num_output = 2\n",
    "\n",
    "# input gains\n",
    "b = np.random.randn(N, num_input)\n",
    "c = np.random.randn(num_output, N)\n",
    "direct_gain = 0.5 * np.ones((num_output, num_input))\n",
    "\n",
    "# delay lengths should be co-prime\n",
    "# constrict delay range to be between 50 and 100ms\n",
    "delay_range_ms = np.array([50, 100])\n",
    "delay_lengths = generate_coprime_delay_line_lengths(delay_range_ms, N, fs)\n",
    "logger.info(f'The delay line lengths are {delay_lengths} samples')\n",
    "\n",
    "# how long should the impulse response be\n",
    "ir_len = ms_to_samps(300, fs)\n",
    "# create an impulse\n",
    "input_data = np.zeros((num_input, ir_len))\n",
    "input_data[:, 0] = 1.0\n",
    "\n",
    "# desired broadband T60\n",
    "des_t60_ms = 500"
   ]
  },
  {
   "cell_type": "markdown",
   "id": "8",
   "metadata": {},
   "source": [
    "#### Plot FDN IR for a scalar matrix vs a feedback matrix"
   ]
  },
  {
   "cell_type": "code",
   "execution_count": null,
   "id": "9",
   "metadata": {},
   "outputs": [],
   "source": [
    "fdn = FDN(fs, num_input, num_output, N, frame_size)\n",
    "fdn.init_io_gains(b, c)\n",
    "fdn.init_direct_gain(direct_gain)\n",
    "fdn.init_delay_line_lengths(delay_lengths)\n",
    "fdn.init_feedback_matrix()\n",
    "fdn.init_absorption_gains(des_t60_ms)\n",
    "fdn.init_delay_lines()\n",
    "\n",
    "sfm_fdn_ir = fdn.process(input_data)\n",
    "del fdn"
   ]
  },
  {
   "cell_type": "code",
   "execution_count": null,
   "id": "10",
   "metadata": {},
   "outputs": [],
   "source": [
    "time_vector = np.arange(0, ir_len/fs, 1.0/fs)\n",
    "time_constant = (des_t60_ms*1e-3) / np.log(1000) \n",
    "exp_envelope = np.exp(-time_vector / time_constant)\n",
    "\n",
    "plt.figure()\n",
    "plt.plot(time_vector, sfm_fdn_ir.T)\n",
    "plt.plot(time_vector, np.stack((exp_envelope, -exp_envelope), axis=-1), 'k--')\n",
    "plt.xlabel('Time (s)')\n",
    "plt.ylabel('Amplitude')\n",
    "plt.title(f'FDN IR with scalar feedback matrix and T60 of {des_t60_ms} ms')"
   ]
  },
  {
   "cell_type": "code",
   "execution_count": null,
   "id": "11",
   "metadata": {},
   "outputs": [],
   "source": [
    "fdn = FDN(fs, num_input, num_output, N, frame_size)\n",
    "fdn.init_io_gains(b, c)\n",
    "fdn.init_direct_gain(direct_gain)\n",
    "fdn.init_delay_line_lengths(delay_lengths)\n",
    "fdn.init_feedback_matrix(FeedbackMatrixType.FILTER_VELVET, sparsity=0.2, num_mixing_stages=1)\n",
    "fdn.init_absorption_gains(des_t60_ms)\n",
    "fdn.init_delay_lines()\n",
    "\n",
    "vfm_fdn_ir = fdn.process(input_data)"
   ]
  },
  {
   "cell_type": "code",
   "execution_count": null,
   "id": "12",
   "metadata": {},
   "outputs": [],
   "source": [
    "fig, ax = plt.subplots(N, N, figsize=(12,12))\n",
    "for i in range(N):\n",
    "    for j in range(N):\n",
    "        ax[i,j].stem(fdn.feedback.feedback_matrix[i, j, :])\n",
    "        if j < N:\n",
    "            ax[i,j].set_xlabel('')\n",
    "        if i > 0:\n",
    "            ax[i,j].set_ylabel('')\n",
    "fig.suptitle(\"Velvet feedback matrix\")\n",
    "fig.tight_layout()\n",
    "\n",
    "plt.figure()\n",
    "plt.plot(time_vector, vfm_fdn_ir.T)\n",
    "plt.plot(time_vector, np.stack((exp_envelope, -exp_envelope), axis=-1), 'k--')\n",
    "plt.xlabel('Time (s)')\n",
    "plt.ylabel('Amplitude')\n",
    "plt.title(f'FDN IR with velvet feedback matrix and T60 of {des_t60_ms} ms')\n",
    "\n",
    "del fdn"
   ]
  },
  {
   "cell_type": "markdown",
   "id": "13",
   "metadata": {},
   "source": [
    "#### Compare the echo densities of the IRs with different feedback matrices"
   ]
  },
  {
   "cell_type": "code",
   "execution_count": null,
   "id": "14",
   "metadata": {},
   "outputs": [],
   "source": [
    "ned_sfm = estimate_echo_density(sfm_fdn_ir.T, fs)\n",
    "ned_vfm = estimate_echo_density(vfm_fdn_ir.T, fs)\n",
    "\n",
    "plt.figure()\n",
    "plt.plot(time_vector, ned_sfm, 'b')\n",
    "plt.plot(time_vector, ned_vfm, 'r')\n",
    "plt.xlabel('Time (s)')\n",
    "plt.ylabel('NED')"
   ]
  }
 ],
 "metadata": {
  "kernelspec": {
   "display_name": "Python 3 (ipykernel)",
   "language": "python",
   "name": "python3"
  },
  "language_info": {
   "codemirror_mode": {
    "name": "ipython",
    "version": 3
   },
   "file_extension": ".py",
   "mimetype": "text/x-python",
   "name": "python",
   "nbconvert_exporter": "python",
   "pygments_lexer": "ipython3",
   "version": "3.9.0"
  }
 },
 "nbformat": 4,
 "nbformat_minor": 5
}
