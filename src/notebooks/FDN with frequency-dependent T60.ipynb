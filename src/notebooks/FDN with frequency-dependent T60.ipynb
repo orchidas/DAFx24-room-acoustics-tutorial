{
 "cells": [
  {
   "cell_type": "code",
   "execution_count": null,
   "id": "0",
   "metadata": {},
   "outputs": [],
   "source": [
    "import numpy as np\n",
    "import matplotlib.pyplot as plt\n",
    "import soundfile as sf\n",
    "\n",
    "from typing import Union, List, Tuple\n",
    "from numpy.typing import ArrayLike, NDArray\n",
    "from loguru import logger\n",
    "from scipy.fft import irfft, rfftfreq\n",
    "from IPython.display import Audio\n",
    "from pathlib import Path\n",
    "\n",
    "from pyFDN.fdn import FDN\n",
    "from pyFDN.feedback_matrix import FeedbackMatrix, FeedbackMatrixType\n",
    "from pyFDN.delay_line import generate_coprime_delay_line_lengths\n",
    "from pyFDN.utils import ms_to_samps, estimate_echo_density\n",
    "\n",
    "seed = 482452\n",
    "np.random.seed(seed)"
   ]
  },
  {
   "cell_type": "markdown",
   "id": "1",
   "metadata": {},
   "source": [
    "#### FDN parameters"
   ]
  },
  {
   "cell_type": "code",
   "execution_count": null,
   "id": "2",
   "metadata": {},
   "outputs": [],
   "source": [
    "# sampling rate\n",
    "fs = 48000\n",
    "# number of delay lines\n",
    "N = 8\n",
    "frame_size = 2**8\n",
    "\n",
    "# we want a binaural output\n",
    "num_input = 1\n",
    "num_output = 2\n",
    "\n",
    "# input gains\n",
    "b = np.random.randn(N, num_input)\n",
    "# change coefficients of c so that the columns are orthonormal\n",
    "c = np.random.randn(num_output, N)\n",
    "direct_gain = 0.5 * np.ones((num_output, num_input))\n",
    "\n",
    "# delay lengths should be co-prime\n",
    "# constrict delay range to be between 50 and 100ms\n",
    "delay_range_ms = np.array([10, 20])\n",
    "delay_lengths = generate_coprime_delay_line_lengths(delay_range_ms, N, fs)\n",
    "logger.info(f'The delay line lengths are {delay_lengths} samples')\n",
    "\n",
    "# how long should the impulse response be\n",
    "ir_len = ms_to_samps(300, fs)\n",
    "# create an impulse\n",
    "input_data = np.zeros((num_input, ir_len))\n",
    "input_data[:, 0] = 1.0\n"
   ]
  },
  {
   "cell_type": "markdown",
   "id": "3",
   "metadata": {},
   "source": [
    "#### Desired frequency based T60"
   ]
  },
  {
   "cell_type": "code",
   "execution_count": null,
   "id": "4",
   "metadata": {},
   "outputs": [],
   "source": [
    "t60_freqs = np.array([63, 125, 250, 500, 1000, 2000, 4000, 8000, 16000])\n",
    "des_t60_ms = 1e3 * np.array([0.4, 0.4, 0.56, 0.3, 0.35, 0.2, 0.25, 0.23, 0.24])\n",
    "iir_filter_order = 10\n",
    "warp_factor = -0.77\n",
    "num_freq_bins = 2**10"
   ]
  },
  {
   "cell_type": "markdown",
   "id": "5",
   "metadata": {},
   "source": [
    "#### Initialise FDN"
   ]
  },
  {
   "cell_type": "code",
   "execution_count": null,
   "id": "6",
   "metadata": {},
   "outputs": [],
   "source": [
    "fdn = FDN(fs, num_input, num_output, N, frame_size, seed)\n",
    "\n",
    "fdn.init_io_gains(b, c)\n",
    "fdn.init_direct_gain(direct_gain)\n",
    "fdn.init_delay_line_lengths(delay_lengths)\n",
    "fdn.init_feedback_matrix()\n",
    "fdn.init_absorption_gains(des_t60_ms, t60_freqs, iir_filter_order, warp_factor)\n",
    "fdn.init_delay_lines()\n"
   ]
  },
  {
   "cell_type": "markdown",
   "id": "7",
   "metadata": {},
   "source": [
    "#### Plot the desired and achieved T60 filters in each delay line"
   ]
  },
  {
   "cell_type": "code",
   "execution_count": null,
   "id": "8",
   "metadata": {},
   "outputs": [],
   "source": [
    "fdn.absorption.plot_t60_filter_response()"
   ]
  },
  {
   "cell_type": "markdown",
   "id": "9",
   "metadata": {},
   "source": [
    "#### Plot the FDN's impulse response"
   ]
  },
  {
   "cell_type": "code",
   "execution_count": null,
   "id": "10",
   "metadata": {},
   "outputs": [],
   "source": [
    "fdn_ir = fdn.process(input_data)\n",
    "\n",
    "time_vector = np.arange(0, ir_len/fs, 1.0/fs)\n",
    "plt.figure()\n",
    "plt.plot(time_vector, fdn_ir.T)\n",
    "plt.xlabel('Time (s)')\n",
    "plt.ylabel('Amplitude')\n",
    "plt.title(f'FDN IR with velvet feedback matrix and T60 of {des_t60_ms} ms')\n",
    "\n",
    "del fdn"
   ]
  }
 ],
 "metadata": {
  "kernelspec": {
   "display_name": "Python 3 (ipykernel)",
   "language": "python",
   "name": "python3"
  },
  "language_info": {
   "codemirror_mode": {
    "name": "ipython",
    "version": 3
   },
   "file_extension": ".py",
   "mimetype": "text/x-python",
   "name": "python",
   "nbconvert_exporter": "python",
   "pygments_lexer": "ipython3",
   "version": "3.9.0"
  }
 },
 "nbformat": 4,
 "nbformat_minor": 5
}
